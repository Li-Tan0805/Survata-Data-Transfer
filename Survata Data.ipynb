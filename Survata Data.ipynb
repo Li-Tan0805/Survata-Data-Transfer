{
 "cells": [
  {
   "cell_type": "code",
   "execution_count": null,
   "metadata": {},
   "outputs": [],
   "source": [
    "import pandas as pd\n",
    "import os\n",
    "import numpy as np\n",
    "from itertools import chain\n",
    "\n",
    "os.chdir('C:\\\\Users\\\\li.tan\\\\Downloads')"
   ]
  },
  {
   "cell_type": "code",
   "execution_count": 4,
   "metadata": {},
   "outputs": [],
   "source": [
    "data = pd.read_excel('Daily Impression Counts.xlsx', sheet_name = 'Daily', skiprows = 5)"
   ]
  },
  {
   "cell_type": "code",
   "execution_count": 5,
   "metadata": {},
   "outputs": [],
   "source": [
    "data = data.loc[data['DCM Campaign IDs'].notna()]\n",
    "data.drop(['Tag Name','UUIDs'], axis = 1, inplace = True)"
   ]
  },
  {
   "cell_type": "code",
   "execution_count": 43,
   "metadata": {},
   "outputs": [],
   "source": [
    "column_to_row = data.melt(id_vars=[\"Campaign Name\", \"DCM Campaign IDs\"], \n",
    "        var_name=\"Date\", \n",
    "        value_name=\"Value\")\n",
    "column_to_row['DCM Campaign IDs'] = column_to_row['DCM Campaign IDs'].str.split('\\n')\n",
    "column_to_row['Value'] = column_to_row['Value'].fillna(0)"
   ]
  },
  {
   "cell_type": "code",
   "execution_count": 45,
   "metadata": {
    "scrolled": true
   },
   "outputs": [],
   "source": [
    "column_to_row['Length'] = column_to_row['DCM Campaign IDs'].str.len().fillna(1)\n",
    "column_to_row['Value'] = column_to_row['Value']/column_to_row['Length']"
   ]
  },
  {
   "cell_type": "code",
   "execution_count": 47,
   "metadata": {},
   "outputs": [],
   "source": [
    "new_data = column_to_row.assign(Campaign_ID = column_to_row['DCM Campaign IDs'].str.split(',')).explode('DCM Campaign IDs')\n",
    "new_data.drop(['Campaign_ID', 'Length'], axis = 1, inplace = True)"
   ]
  },
  {
   "cell_type": "code",
   "execution_count": null,
   "metadata": {},
   "outputs": [],
   "source": [
    "new_data.to_csv('output.csv', index = False)"
   ]
  }
 ],
 "metadata": {
  "kernelspec": {
   "display_name": "Python 3",
   "language": "python",
   "name": "python3"
  },
  "language_info": {
   "codemirror_mode": {
    "name": "ipython",
    "version": 3
   },
   "file_extension": ".py",
   "mimetype": "text/x-python",
   "name": "python",
   "nbconvert_exporter": "python",
   "pygments_lexer": "ipython3",
   "version": "3.6.5"
  }
 },
 "nbformat": 4,
 "nbformat_minor": 2
}
